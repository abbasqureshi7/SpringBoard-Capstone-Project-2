{
 "cells": [
  {
   "cell_type": "code",
   "execution_count": 1,
   "metadata": {},
   "outputs": [],
   "source": [
    "import tweepy\n",
    "consumer_key = \"VqcxzBOXycA5eSY4DVh8gdbcN\"\n",
    "consumer_secret = \"kLkViKhCJ9VaXAeuvNr2bEBgC5pcYDOi5lwh5vXuTtc0bpL9L7\"\n",
    "access_token = \"400927565-O9z7W7ucgL7esDLkRg2e4JSTfiNSTixqlf2tmC7i\"\n",
    "access_token_secret = \"Oe2ohU0flKGf1HUn0ZkVTXmJ2tA3IgXCjkyFgo9x75imF\""
   ]
  },
  {
   "cell_type": "code",
   "execution_count": 2,
   "metadata": {},
   "outputs": [],
   "source": [
    "#creating the authentication object\n",
    "auth= tweepy.OAuthHandler(consumer_key, consumer_secret)\n",
    "#setting your access token and secret\n",
    "auth.set_access_token(access_token, access_token_secret)\n",
    "#creating the API object while passing in auth information\n",
    "api = tweepy.API(auth)"
   ]
  },
  {
   "cell_type": "code",
   "execution_count": 29,
   "metadata": {},
   "outputs": [],
   "source": [
    "tweets = api.search(\"qatarairways OR qrsupport\", lang='en',rpp=100)"
   ]
  },
  {
   "cell_type": "code",
   "execution_count": 30,
   "metadata": {},
   "outputs": [
    {
     "name": "stdout",
     "output_type": "stream",
     "text": [
      "reem101131 Tweeted: RT @qatarairways: Game on #Oman! We are the Official Airline Partner for three of Oman’s Ministry of Education sports programmes and the Om…\n",
      "alpamaika Tweeted: @qatarairways 24 h from Bangkok to Rome is extremely long, arrived in Doha 40 min before the connection flight and… https://t.co/aaOOsXR5Rm\n",
      "medshare Tweeted: RT @AirlinkFlight: @qatarairways is making a huge difference for #CycloneIdai survivors. They've donated a flight carrying @SavetheChildren…\n",
      "AliHasa_n Tweeted: #Flights on time 2017\n",
      "\n",
      "#Qantas 86.2%\n",
      "#JapanAirlines 85.3%\n",
      "#Singapore 84.1%\n",
      "#AllNippon 83.8%\n",
      "#QatarAirways 82.9%… https://t.co/nVbWR1git4\n",
      "qrsupport Tweeted: @WrisJarrett Investigate further and revert back to you. Please send to tell-us@qatarairways.com.qa\n",
      "Thank you. 2/2.\n",
      "GulfTimes_QATAR Tweeted: #US govt should not restrict #QatarAirways from #flying to the country, say 3 #airlines\n",
      "#aviation… https://t.co/cDRwq5BNUT\n",
      "qrsupport Tweeted: @WrisJarrett We can't be apologetic enough for the inconvenience caused and can only imagine the impact this might… https://t.co/7smd7ldQ1v\n",
      "Dkgunner Tweeted: @qatarairways QR1125 back from MCT. The crew were professional as always. Big shout to  Alexandra for putting smile… https://t.co/RdoC8AV2XZ\n"
     ]
    }
   ],
   "source": [
    "# foreach through all tweets pulled\n",
    "for tweet in tweets:\n",
    "   # printing the text stored inside the tweet object\n",
    "   print(tweet.user.screen_name,\"Tweeted:\",tweet.text)"
   ]
  },
  {
   "cell_type": "code",
   "execution_count": 32,
   "metadata": {},
   "outputs": [],
   "source": [
    "import pandas as pd\n"
   ]
  },
  {
   "cell_type": "code",
   "execution_count": 36,
   "metadata": {},
   "outputs": [
    {
     "ename": "AttributeError",
     "evalue": "'SearchResults' object has no attribute 'text'",
     "output_type": "error",
     "traceback": [
      "\u001b[0;31m---------------------------------------------------------------------------\u001b[0m",
      "\u001b[0;31mAttributeError\u001b[0m                            Traceback (most recent call last)",
      "\u001b[0;32m<ipython-input-36-f24a2e44dde9>\u001b[0m in \u001b[0;36m<module>\u001b[0;34m\u001b[0m\n\u001b[0;32m----> 1\u001b[0;31m \u001b[0;32mwith\u001b[0m \u001b[0mopen\u001b[0m\u001b[0;34m(\u001b[0m\u001b[0mtweets\u001b[0m\u001b[0;34m.\u001b[0m\u001b[0mtext\u001b[0m\u001b[0;34m)\u001b[0m \u001b[0;32mas\u001b[0m \u001b[0minfile\u001b[0m\u001b[0;34m,\u001b[0m \u001b[0mopen\u001b[0m\u001b[0;34m(\u001b[0m\u001b[0;34m'tweets.csv'\u001b[0m\u001b[0;34m,\u001b[0m\u001b[0;34m'w'\u001b[0m\u001b[0;34m)\u001b[0m \u001b[0;32mas\u001b[0m \u001b[0moutfile\u001b[0m\u001b[0;34m:\u001b[0m\u001b[0;34m\u001b[0m\u001b[0;34m\u001b[0m\u001b[0m\n\u001b[0m\u001b[1;32m      2\u001b[0m     \u001b[0;32mfor\u001b[0m \u001b[0mline\u001b[0m \u001b[0;32min\u001b[0m \u001b[0minfile\u001b[0m\u001b[0;34m:\u001b[0m\u001b[0;34m\u001b[0m\u001b[0;34m\u001b[0m\u001b[0m\n\u001b[1;32m      3\u001b[0m         \u001b[0moutfile\u001b[0m\u001b[0;34m.\u001b[0m\u001b[0mwrite\u001b[0m\u001b[0;34m(\u001b[0m\u001b[0mline\u001b[0m\u001b[0;34m.\u001b[0m\u001b[0mreplace\u001b[0m\u001b[0;34m(\u001b[0m\u001b[0;34m' '\u001b[0m\u001b[0;34m,\u001b[0m\u001b[0;34m','\u001b[0m\u001b[0;34m)\u001b[0m\u001b[0;34m)\u001b[0m\u001b[0;34m\u001b[0m\u001b[0;34m\u001b[0m\u001b[0m\n",
      "\u001b[0;31mAttributeError\u001b[0m: 'SearchResults' object has no attribute 'text'"
     ]
    }
   ],
   "source": [
    "with open(tweets.text) as infile, open('tweets.csv','w') as outfile: \n",
    "    for line in infile: \n",
    "        outfile.write(line.replace(' ',','))"
   ]
  },
  {
   "cell_type": "code",
   "execution_count": null,
   "metadata": {},
   "outputs": [],
   "source": []
  }
 ],
 "metadata": {
  "kernelspec": {
   "display_name": "Python 3",
   "language": "python",
   "name": "python3"
  },
  "language_info": {
   "codemirror_mode": {
    "name": "ipython",
    "version": 3
   },
   "file_extension": ".py",
   "mimetype": "text/x-python",
   "name": "python",
   "nbconvert_exporter": "python",
   "pygments_lexer": "ipython3",
   "version": "3.7.1"
  }
 },
 "nbformat": 4,
 "nbformat_minor": 2
}
